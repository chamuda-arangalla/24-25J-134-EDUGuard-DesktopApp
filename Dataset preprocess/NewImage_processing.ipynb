{
  "nbformat": 4,
  "nbformat_minor": 0,
  "metadata": {
    "colab": {
      "provenance": [],
      "gpuType": "T4"
    },
    "kernelspec": {
      "name": "python3",
      "display_name": "Python 3"
    },
    "language_info": {
      "name": "python"
    },
    "accelerator": "GPU"
  },
  "cells": [
    {
      "cell_type": "code",
      "execution_count": null,
      "metadata": {
        "colab": {
          "base_uri": "https://localhost:8080/"
        },
        "id": "p7rwn6tFkItn",
        "outputId": "0b57fffe-0702-486f-feab-063930749bf4"
      },
      "outputs": [
        {
          "output_type": "stream",
          "name": "stdout",
          "text": [
            "Mounted at /content/drive\n"
          ]
        }
      ],
      "source": [
        "from google.colab import drive\n",
        "drive.mount('/content/drive')"
      ]
    },
    {
      "cell_type": "code",
      "source": [
        "!pip install mediapipe"
      ],
      "metadata": {
        "colab": {
          "base_uri": "https://localhost:8080/"
        },
        "id": "9EV21tzbliOZ",
        "outputId": "5330fd21-0a03-4f30-ac80-7ae70961fdfa"
      },
      "execution_count": null,
      "outputs": [
        {
          "output_type": "stream",
          "name": "stdout",
          "text": [
            "Collecting mediapipe\n",
            "  Downloading mediapipe-0.10.18-cp310-cp310-manylinux_2_17_x86_64.manylinux2014_x86_64.whl.metadata (9.7 kB)\n",
            "Requirement already satisfied: absl-py in /usr/local/lib/python3.10/dist-packages (from mediapipe) (1.4.0)\n",
            "Requirement already satisfied: attrs>=19.1.0 in /usr/local/lib/python3.10/dist-packages (from mediapipe) (24.2.0)\n",
            "Requirement already satisfied: flatbuffers>=2.0 in /usr/local/lib/python3.10/dist-packages (from mediapipe) (24.3.25)\n",
            "Requirement already satisfied: jax in /usr/local/lib/python3.10/dist-packages (from mediapipe) (0.4.33)\n",
            "Requirement already satisfied: jaxlib in /usr/local/lib/python3.10/dist-packages (from mediapipe) (0.4.33)\n",
            "Requirement already satisfied: matplotlib in /usr/local/lib/python3.10/dist-packages (from mediapipe) (3.8.0)\n",
            "Requirement already satisfied: numpy<2 in /usr/local/lib/python3.10/dist-packages (from mediapipe) (1.26.4)\n",
            "Requirement already satisfied: opencv-contrib-python in /usr/local/lib/python3.10/dist-packages (from mediapipe) (4.10.0.84)\n",
            "Requirement already satisfied: protobuf<5,>=4.25.3 in /usr/local/lib/python3.10/dist-packages (from mediapipe) (4.25.5)\n",
            "Collecting sounddevice>=0.4.4 (from mediapipe)\n",
            "  Downloading sounddevice-0.5.1-py3-none-any.whl.metadata (1.4 kB)\n",
            "Requirement already satisfied: sentencepiece in /usr/local/lib/python3.10/dist-packages (from mediapipe) (0.2.0)\n",
            "Requirement already satisfied: CFFI>=1.0 in /usr/local/lib/python3.10/dist-packages (from sounddevice>=0.4.4->mediapipe) (1.17.1)\n",
            "Requirement already satisfied: ml-dtypes>=0.2.0 in /usr/local/lib/python3.10/dist-packages (from jax->mediapipe) (0.4.1)\n",
            "Requirement already satisfied: opt-einsum in /usr/local/lib/python3.10/dist-packages (from jax->mediapipe) (3.4.0)\n",
            "Requirement already satisfied: scipy>=1.10 in /usr/local/lib/python3.10/dist-packages (from jax->mediapipe) (1.13.1)\n",
            "Requirement already satisfied: contourpy>=1.0.1 in /usr/local/lib/python3.10/dist-packages (from matplotlib->mediapipe) (1.3.1)\n",
            "Requirement already satisfied: cycler>=0.10 in /usr/local/lib/python3.10/dist-packages (from matplotlib->mediapipe) (0.12.1)\n",
            "Requirement already satisfied: fonttools>=4.22.0 in /usr/local/lib/python3.10/dist-packages (from matplotlib->mediapipe) (4.55.0)\n",
            "Requirement already satisfied: kiwisolver>=1.0.1 in /usr/local/lib/python3.10/dist-packages (from matplotlib->mediapipe) (1.4.7)\n",
            "Requirement already satisfied: packaging>=20.0 in /usr/local/lib/python3.10/dist-packages (from matplotlib->mediapipe) (24.2)\n",
            "Requirement already satisfied: pillow>=6.2.0 in /usr/local/lib/python3.10/dist-packages (from matplotlib->mediapipe) (11.0.0)\n",
            "Requirement already satisfied: pyparsing>=2.3.1 in /usr/local/lib/python3.10/dist-packages (from matplotlib->mediapipe) (3.2.0)\n",
            "Requirement already satisfied: python-dateutil>=2.7 in /usr/local/lib/python3.10/dist-packages (from matplotlib->mediapipe) (2.8.2)\n",
            "Requirement already satisfied: pycparser in /usr/local/lib/python3.10/dist-packages (from CFFI>=1.0->sounddevice>=0.4.4->mediapipe) (2.22)\n",
            "Requirement already satisfied: six>=1.5 in /usr/local/lib/python3.10/dist-packages (from python-dateutil>=2.7->matplotlib->mediapipe) (1.16.0)\n",
            "Downloading mediapipe-0.10.18-cp310-cp310-manylinux_2_17_x86_64.manylinux2014_x86_64.whl (36.1 MB)\n",
            "\u001b[2K   \u001b[90m━━━━━━━━━━━━━━━━━━━━━━━━━━━━━━━━━━━━━━━━\u001b[0m \u001b[32m36.1/36.1 MB\u001b[0m \u001b[31m49.9 MB/s\u001b[0m eta \u001b[36m0:00:00\u001b[0m\n",
            "\u001b[?25hDownloading sounddevice-0.5.1-py3-none-any.whl (32 kB)\n",
            "Installing collected packages: sounddevice, mediapipe\n",
            "Successfully installed mediapipe-0.10.18 sounddevice-0.5.1\n"
          ]
        }
      ]
    },
    {
      "cell_type": "code",
      "source": [
        "import cv2\n",
        "import mediapipe as mp\n",
        "import os\n",
        "\n",
        "# Initialize MediaPipe Pose solution\n",
        "mp_drawing = mp.solutions.drawing_utils\n",
        "mp_pose = mp.solutions.pose\n",
        "\n",
        "# Input and output directories\n",
        "input_dir = \"/content/drive/MyDrive/Research/Posture/bad\"  # Replace with your dataset folder\n",
        "output_dir = \"/content/Output/Bad1\"  # Replace with your desired output folder\n",
        "os.makedirs(output_dir, exist_ok=True)\n",
        "\n",
        "def process_image(image_path, output_path):\n",
        "    # Load the image\n",
        "    image = cv2.imread(image_path)\n",
        "    height, width, _ = image.shape\n",
        "\n",
        "    with mp_pose.Pose(min_detection_confidence=0.5, min_tracking_confidence=0.5) as pose:\n",
        "        # Convert the BGR image to RGB\n",
        "        image_rgb = cv2.cvtColor(image, cv2.COLOR_BGR2RGB)\n",
        "        results = pose.process(image_rgb)\n",
        "\n",
        "        if results.pose_landmarks:\n",
        "            # Extract keypoints for shoulders and nose\n",
        "            landmarks = results.pose_landmarks.landmark\n",
        "            left_shoulder = landmarks[mp_pose.PoseLandmark.LEFT_SHOULDER]\n",
        "            right_shoulder = landmarks[mp_pose.PoseLandmark.RIGHT_SHOULDER]\n",
        "            nose = landmarks[mp_pose.PoseLandmark.NOSE]\n",
        "\n",
        "            # Convert normalized coordinates to image dimensions\n",
        "            def to_pixel_coords(landmark):\n",
        "                return int(landmark.x * width), int(landmark.y * height)\n",
        "\n",
        "            left_shoulder_coords = to_pixel_coords(left_shoulder)\n",
        "            right_shoulder_coords = to_pixel_coords(right_shoulder)\n",
        "            nose_coords = to_pixel_coords(nose)\n",
        "\n",
        "            # Calculate the midpoint of the shoulders\n",
        "            mid_shoulders_coords = (\n",
        "                (left_shoulder_coords[0] + right_shoulder_coords[0]) // 2,\n",
        "                (left_shoulder_coords[1] + right_shoulder_coords[1]) // 2\n",
        "            )\n",
        "\n",
        "            # Draw horizontal line (shoulders)\n",
        "            cv2.line(image, left_shoulder_coords, right_shoulder_coords, (0, 255, 0), 2)\n",
        "\n",
        "            # Draw vertical line (nose to midpoint of shoulders)\n",
        "            cv2.line(image, nose_coords, mid_shoulders_coords, (255, 0, 0), 2)\n",
        "\n",
        "        # Save the processed image\n",
        "        cv2.imwrite(output_path, image)\n",
        "\n",
        "# Process all images in the dataset\n",
        "for filename in os.listdir(input_dir):\n",
        "    if filename.endswith(\".jpg\") or filename.endswith(\".png\"):  # Process only images\n",
        "        input_path = os.path.join(input_dir, filename)\n",
        "        output_path = os.path.join(output_dir, filename)\n",
        "        process_image(input_path, output_path)\n",
        "\n",
        "print(\"Processing complete. Check the output directory.\")\n"
      ],
      "metadata": {
        "colab": {
          "base_uri": "https://localhost:8080/"
        },
        "id": "zjrE1SP9kKNG",
        "outputId": "57d1101f-56b7-4639-facb-1af69c6b35d3"
      },
      "execution_count": null,
      "outputs": [
        {
          "output_type": "stream",
          "name": "stdout",
          "text": [
            "Processing complete. Check the output directory.\n"
          ]
        }
      ]
    },
    {
      "cell_type": "markdown",
      "source": [
        "**Center point**"
      ],
      "metadata": {
        "id": "_WQu3JdgxQIw"
      }
    },
    {
      "cell_type": "code",
      "source": [
        "import cv2\n",
        "import mediapipe as mp\n",
        "import os\n",
        "\n",
        "# Initialize MediaPipe Pose solution\n",
        "mp_drawing = mp.solutions.drawing_utils\n",
        "mp_pose = mp.solutions.pose\n",
        "\n",
        "# Input and output directories\n",
        "input_dir = \"/content/drive/MyDrive/Research/Posture/bad\"  # Replace with your dataset folder\n",
        "output_dir = \"/content/Output02/bad2\"  # Replace with your desired output folder\n",
        "os.makedirs(output_dir, exist_ok=True)\n",
        "\n",
        "def process_image(image_path, output_path):\n",
        "    # Load the image\n",
        "    image = cv2.imread(image_path)\n",
        "    height, width, _ = image.shape\n",
        "\n",
        "    with mp_pose.Pose(min_detection_confidence=0.5, min_tracking_confidence=0.5) as pose:\n",
        "        # Convert the BGR image to RGB\n",
        "        image_rgb = cv2.cvtColor(image, cv2.COLOR_BGR2RGB)\n",
        "        results = pose.process(image_rgb)\n",
        "\n",
        "        if results.pose_landmarks:\n",
        "            # Extract keypoints for shoulders and nose\n",
        "            landmarks = results.pose_landmarks.landmark\n",
        "            left_shoulder = landmarks[mp_pose.PoseLandmark.LEFT_SHOULDER]\n",
        "            right_shoulder = landmarks[mp_pose.PoseLandmark.RIGHT_SHOULDER]\n",
        "            nose = landmarks[mp_pose.PoseLandmark.NOSE]\n",
        "\n",
        "            # Convert normalized coordinates to image dimensions\n",
        "            def to_pixel_coords(landmark):\n",
        "                return int(landmark.x * width), int(landmark.y * height)\n",
        "\n",
        "            left_shoulder_coords = to_pixel_coords(left_shoulder)\n",
        "            right_shoulder_coords = to_pixel_coords(right_shoulder)\n",
        "            nose_coords = to_pixel_coords(nose)\n",
        "\n",
        "            # Calculate the midpoint of the shoulders\n",
        "            mid_shoulders_coords = (\n",
        "                (left_shoulder_coords[0] + right_shoulder_coords[0]) // 2,\n",
        "                (left_shoulder_coords[1] + right_shoulder_coords[1]) // 2\n",
        "            )\n",
        "\n",
        "            # Draw horizontal line (shoulders)\n",
        "            cv2.line(image, left_shoulder_coords, right_shoulder_coords, (0, 255, 0), 2)\n",
        "\n",
        "            # Draw vertical line (nose to midpoint of shoulders)\n",
        "            cv2.line(image, nose_coords, mid_shoulders_coords, (255, 0, 0), 2)\n",
        "\n",
        "            # Draw new horizontal line crossing the intersection of the above lines\n",
        "            intersection_x = mid_shoulders_coords[0]\n",
        "            intersection_y = mid_shoulders_coords[1]\n",
        "            cv2.line(image, (0, intersection_y), (width, intersection_y), (0, 0, 255), 2)\n",
        "\n",
        "        # Save the processed image\n",
        "        cv2.imwrite(output_path, image)\n",
        "\n",
        "# Process all images in the dataset\n",
        "for filename in os.listdir(input_dir):\n",
        "    if filename.endswith(\".jpg\") or filename.endswith(\".png\"):  # Process only images\n",
        "        input_path = os.path.join(input_dir, filename)\n",
        "        output_path = os.path.join(output_dir, filename)\n",
        "        process_image(input_path, output_path)\n",
        "\n",
        "print(\"Processing complete. Check the output directory.\")\n"
      ],
      "metadata": {
        "colab": {
          "base_uri": "https://localhost:8080/"
        },
        "id": "uXLGY2lvxMSF",
        "outputId": "9f26d630-7178-4eca-9f43-24cc59d60925"
      },
      "execution_count": null,
      "outputs": [
        {
          "output_type": "stream",
          "name": "stdout",
          "text": [
            "Processing complete. Check the output directory.\n"
          ]
        }
      ]
    },
    {
      "cell_type": "code",
      "source": [
        "import shutil\n",
        "\n",
        "# Path to the folder you want to compress\n",
        "folder_to_compress = '/content/Output02/good2'\n",
        "\n",
        "# Path to save the compressed file\n",
        "output_zip = '/content/Output'\n",
        "\n",
        "# Compress the folder\n",
        "shutil.make_archive(output_zip.replace('.zip', ''), 'zip', folder_to_compress)\n",
        "\n",
        "print(f\"Folder compressed successfully into {output_zip}\")\n"
      ],
      "metadata": {
        "colab": {
          "base_uri": "https://localhost:8080/"
        },
        "id": "fAG2_ZonqOWq",
        "outputId": "ab5f5297-a7f9-4092-c00e-43eadea765fb"
      },
      "execution_count": null,
      "outputs": [
        {
          "output_type": "stream",
          "name": "stdout",
          "text": [
            "Folder compressed successfully into /content/Output\n"
          ]
        }
      ]
    }
  ]
}